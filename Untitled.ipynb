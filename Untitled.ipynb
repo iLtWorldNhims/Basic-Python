{
 "cells": [
  {
   "cell_type": "code",
   "execution_count": null,
   "id": "83518191",
   "metadata": {},
   "outputs": [
    {
     "name": "stdout",
     "output_type": "stream",
     "text": [
      "Nhập vào nội dung chi tiêu: Đổ xăng\n",
      "Nhập vào tiền chi tiêu100000\n",
      "Nhập vào nội dung chi tiêu: Ăn sáng\n",
      "Nhập vào tiền chi tiêu35000\n"
     ]
    }
   ],
   "source": [
    "import mysql.connector\n",
    "from datetime import datetime\n",
    "\n",
    "mydb = mysql.connector.connect(\n",
    "  host=\"localhost\",\n",
    "  user=\"root\",\n",
    "  password=\"\",\n",
    "    database = \"pyf205r1\"\n",
    ")\n",
    "\n",
    "mycursor = mydb.cursor()\n",
    "\n",
    "# print(type(mycursor))\n",
    "\n",
    "sql = \"### mã SQL\"\n",
    "\n",
    "def them_chi_tieu(noi_dung, tien):\n",
    "    ngay_gio = datetime.now().strftime(\"%Y/%m/%d, %H:%M:%S\")\n",
    "    sql = \"INSERT INTO chi_tieu (noi_dung, so_tien, ngay_gio) VALUES (%s, %s, %s)\"\n",
    "    val = (\"Ăn sáng\", \"35000\", ngay_gio)\n",
    "    mycursor.execute(sql, val)\n",
    "    mydb.commit()\n",
    "    \n",
    "while True:\n",
    "    noi_dung = input(\"Nhập vào nội dung chi tiêu: \")\n",
    "    tien = int(input(\"Nhập vào tiền chi tiêu: \"))\n",
    "    them_chi_tieu(noi_dung, tien)\n",
    "\n",
    "# print(mydb)"
   ]
  }
 ],
 "metadata": {
  "kernelspec": {
   "display_name": "Python 3 (ipykernel)",
   "language": "python",
   "name": "python3"
  },
  "language_info": {
   "codemirror_mode": {
    "name": "ipython",
    "version": 3
   },
   "file_extension": ".py",
   "mimetype": "text/x-python",
   "name": "python",
   "nbconvert_exporter": "python",
   "pygments_lexer": "ipython3",
   "version": "3.9.12"
  }
 },
 "nbformat": 4,
 "nbformat_minor": 5
}
