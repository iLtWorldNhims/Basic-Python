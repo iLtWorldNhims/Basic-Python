{
 "cells": [
  {
   "cell_type": "code",
   "execution_count": 36,
   "id": "8fdd977b",
   "metadata": {},
   "outputs": [
    {
     "ename": "SystemExit",
     "evalue": "",
     "output_type": "error",
     "traceback": [
      "An exception has occurred, use %tb to see the full traceback.\n",
      "\u001b[1;31mSystemExit\u001b[0m\n"
     ]
    }
   ],
   "source": [
    "import pygame, sys, random\n",
    "# Tạo hàm cho trò chơi\n",
    "def draw_floor():\n",
    "    screen.blit(floor,(floor_x_pos,600))\n",
    "    screen.blit(floor,(floor_x_pos+432,600))\n",
    "def create_pipe():\n",
    "    random_pipe_pos = random.choice(pipe_height)\n",
    "    bottom_pipe = pipe_surface.get_rect(midtop = (500,random_pipe_pos))\n",
    "    top_pipe = pipe_surface.get_rect(midtop = (500,random_pipe_pos-650))\n",
    "    return bottom_pipe, top_pipe\n",
    "def move_pipe(pipes):\n",
    "    for pipe in pipes:\n",
    "        pipe.centerx -= 5\n",
    "    return pipes\n",
    "def draw_pipe(pipes):\n",
    "    for pipe in pipes:\n",
    "        screen.blit(pipe_surface,pipe)\n",
    "pygame.init()\n",
    "screen = pygame.display.set_mode((432,768))\n",
    "clock = pygame.time.Clock()\n",
    "# Tạo các biến cho trò chơi\n",
    "gravity = 0.25\n",
    "bird_movement = 0\n",
    "# Chèn background\n",
    "bg = pygame.image.load(\"assets/background-night.png\").convert()\n",
    "bg = pygame.transform.scale2x(bg)\n",
    "# Chèn sàn\n",
    "floor = pygame.image.load(\"assets/floor.png\").convert()\n",
    "floor = pygame.transform.scale2x(floor)\n",
    "floor_x_pos = 0\n",
    "# Tạo chim\n",
    "bird = pygame.image.load(\"assets/yellowbird-midflap.png\").convert()\n",
    "bird = pygame.transform.scale2x(bird)\n",
    "bird_rect = bird.get_rect(center = (100,384))\n",
    "# Tạo ống\n",
    "pipe_surface = pygame.image.load(\"assets/pipe-green.png\").convert()\n",
    "pipe_surface = pygame.transform.scale2x(pipe_surface)\n",
    "pipe_list = []\n",
    "# Tạo timer\n",
    "spawnpipe = pygame.USEREVENT\n",
    "pygame.time.set_timer(spawnpipe, 1200)\n",
    "pipe_height = [200,300,400]\n",
    "while True:\n",
    "    for event in pygame.event.get():\n",
    "        if event.type == pygame.QUIT:\n",
    "            pygame.quit()\n",
    "            sys.exit()\n",
    "        if event.type == pygame.KEYDOWN:\n",
    "            if event.key == pygame.K_SPACE:\n",
    "                bird_movement = 0\n",
    "                bird_movement = -11\n",
    "        if event.type == spawnpipe:\n",
    "            pipe_list.extend(create_pipe())\n",
    "            \n",
    "            \n",
    "    screen.blit(bg,(0,0))\n",
    "    # Chim\n",
    "    bird_movement += gravity\n",
    "    bird_rect.centery += bird_movement\n",
    "    screen.blit(bird,bird_rect)\n",
    "    # Ống\n",
    "    pipe_list = move_pipe(pipe_list)\n",
    "    draw_pipe(pipe_list)\n",
    "    # Sàn\n",
    "    floor_x_pos -= 1\n",
    "    draw_floor()\n",
    "    if floor_x_pos <= -432:\n",
    "        floor_x_pos = 0\n",
    "        \n",
    "    screen.blit(floor,(floor_x_pos,600))\n",
    "    pygame.display.update() \n",
    "    clock.tick(120)"
   ]
  }
 ],
 "metadata": {
  "kernelspec": {
   "display_name": "Python 3 (ipykernel)",
   "language": "python",
   "name": "python3"
  },
  "language_info": {
   "codemirror_mode": {
    "name": "ipython",
    "version": 3
   },
   "file_extension": ".py",
   "mimetype": "text/x-python",
   "name": "python",
   "nbconvert_exporter": "python",
   "pygments_lexer": "ipython3",
   "version": "3.9.12"
  }
 },
 "nbformat": 4,
 "nbformat_minor": 5
}
