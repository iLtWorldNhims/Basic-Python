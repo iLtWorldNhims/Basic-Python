{
 "cells": [
  {
   "cell_type": "code",
   "execution_count": 11,
   "id": "be78b4e4",
   "metadata": {},
   "outputs": [
    {
     "name": "stdout",
     "output_type": "stream",
     "text": [
      "This is the pre-sorted list: [63, -30, -8, -94, 10, 42, 96, -98, -74, -92]\n",
      "This is the sorted list: [-98, -94, -92, -74, -30, -8, 10, 42, 63, 96]\n",
      "The first and second best scores from the list are 96 and 63\n"
     ]
    }
   ],
   "source": [
    "import random as r\n",
    "\n",
    "my_list = []\n",
    "\n",
    "for i in range(10):\n",
    "    my_list.append(r.randint(-100, 100))\n",
    "    \n",
    "print(f\"This is the pre-sorted list: {my_list}\")\n",
    "    \n",
    "for number in range(len(my_list)):\n",
    "    for another_number in range(len(my_list)):\n",
    "        if my_list[number] < my_list[another_number]:\n",
    "            my_list[number], my_list[another_number] = my_list[another_number], my_list[number]\n",
    "      \n",
    "my_sorted_list = my_list\n",
    "    \n",
    "print(f\"This is the sorted list: {my_sorted_list}\")\n",
    "\n",
    "print(f\"The first and second best scores from the list are {my_sorted_list[-1]} and {my_sorted_list[-2]}\")"
   ]
  }
 ],
 "metadata": {
  "kernelspec": {
   "display_name": "Python 3 (ipykernel)",
   "language": "python",
   "name": "python3"
  },
  "language_info": {
   "codemirror_mode": {
    "name": "ipython",
    "version": 3
   },
   "file_extension": ".py",
   "mimetype": "text/x-python",
   "name": "python",
   "nbconvert_exporter": "python",
   "pygments_lexer": "ipython3",
   "version": "3.10.5"
  }
 },
 "nbformat": 4,
 "nbformat_minor": 5
}
