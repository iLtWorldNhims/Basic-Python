{
 "cells": [
  {
   "cell_type": "code",
   "execution_count": 10,
   "id": "be78b4e4",
   "metadata": {},
   "outputs": [
    {
     "ename": "SyntaxError",
     "evalue": "unterminated string literal (detected at line 19) (3297838244.py, line 19)",
     "output_type": "error",
     "traceback": [
      "\u001b[1;36m  Input \u001b[1;32mIn [10]\u001b[1;36m\u001b[0m\n\u001b[1;33m    print(f\"The first and second best scores from the list are {my_sorted_list[-1]} and {my_sorted_list[-2]})\u001b[0m\n\u001b[1;37m          ^\u001b[0m\n\u001b[1;31mSyntaxError\u001b[0m\u001b[1;31m:\u001b[0m unterminated string literal (detected at line 19)\n"
     ]
    }
   ],
   "source": [
    "import random as r\n",
    "\n",
    "my_list = []\n",
    "\n",
    "for i in range(10):\n",
    "    my_list.append(r.randint(-100, 100))\n",
    "    \n",
    "print(f\"This is the pre-sorted list: {my_list}\")\n",
    "    \n",
    "for number in range(len(my_list)):\n",
    "    for another_number in range(len(my_list)):\n",
    "        if my_list[number] < my_list[another_number]:\n",
    "            my_list[number], my_list[another_number] = my_list[another_number], my_list[number]\n",
    "      \n",
    "my_sorted_list = my_list\n",
    "    \n",
    "print(f\"This is the sorted list: {my_sorted_list}\")\n",
    "\n",
    "print(f\"The first and second best scores from the list are {my_sorted_list[-1]} and {my_sorted_list[-2]}\")"
   ]
  }
 ],
 "metadata": {
  "kernelspec": {
   "display_name": "Python 3 (ipykernel)",
   "language": "python",
   "name": "python3"
  },
  "language_info": {
   "codemirror_mode": {
    "name": "ipython",
    "version": 3
   },
   "file_extension": ".py",
   "mimetype": "text/x-python",
   "name": "python",
   "nbconvert_exporter": "python",
   "pygments_lexer": "ipython3",
   "version": "3.10.5"
  }
 },
 "nbformat": 4,
 "nbformat_minor": 5
}
