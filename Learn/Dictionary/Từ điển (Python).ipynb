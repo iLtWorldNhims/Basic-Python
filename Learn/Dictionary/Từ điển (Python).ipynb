{
 "cells": [
  {
   "cell_type": "code",
   "execution_count": 23,
   "id": "e54183ab-9814-4a3d-9795-a4707ed15e9d",
   "metadata": {},
   "outputs": [
    {
     "name": "stdin",
     "output_type": "stream",
     "text": [
      "Mời bạn nhập vào từ tiếng Anh cần dịch:  house\n"
     ]
    },
    {
     "name": "stdout",
     "output_type": "stream",
     "text": [
      "ngôi nhà\n"
     ]
    }
   ],
   "source": [
    "def translate(dictionary, input_word):\n",
    "    translated_word = \"\"\n",
    "    for word in dictionary:\n",
    "        if input_word == word:\n",
    "            translated_word = dictionary[input_word]\n",
    "    if translated_word == \"\":\n",
    "        translated_word = \"Xin lỗi! Từ bạn vừa nhập không có trong từ điển.\"\n",
    "    return translated_word\n",
    "        \n",
    "dictionary = {\"hello\": \"xin chào\",\n",
    "             \"cat\": \"mèo\",\n",
    "             \"dog\": \"chó\",\n",
    "             \"computer\": \"máy tính\",\n",
    "             \"house\": \"ngôi nhà\",\n",
    "             \"family\": \"gia đình\",\n",
    "             \"friend\": \"bạn bè\",\n",
    "             \"program\": \"chương trình\",\n",
    "             \"translate\": \"dịch\",\n",
    "             \"English\": \"tiếng Anh\",\n",
    "             \"Vietnamese\": \"tiếng Việt\"}\n",
    "\n",
    "input_word = input(\"Mời bạn nhập vào từ tiếng Anh cần dịch: \")\n",
    "\n",
    "print(translate(dictionary, input_word))"
   ]
  }
 ],
 "metadata": {
  "kernelspec": {
   "display_name": "Python 3 (ipykernel)",
   "language": "python",
   "name": "python3"
  },
  "language_info": {
   "codemirror_mode": {
    "name": "ipython",
    "version": 3
   },
   "file_extension": ".py",
   "mimetype": "text/x-python",
   "name": "python",
   "nbconvert_exporter": "python",
   "pygments_lexer": "ipython3",
   "version": "3.10.6"
  }
 },
 "nbformat": 4,
 "nbformat_minor": 5
}
