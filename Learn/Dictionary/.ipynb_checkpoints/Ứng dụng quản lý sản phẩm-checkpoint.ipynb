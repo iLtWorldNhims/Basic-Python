{
 "cells": [
  {
   "cell_type": "code",
   "execution_count": 1,
   "id": "7b61fda4",
   "metadata": {},
   "outputs": [],
   "source": [
    "prods_db = {1: \"Mario\",\n",
    "           2: \"Tetris\",\n",
    "           3: \"Pokémon\",\n",
    "           4: \"Call of Duty\",\n",
    "           5: \"Super Mario\",\n",
    "           6: \"Grand Theft Auto\",\n",
    "           7: \"FIFA\",\n",
    "           8: \"Minecraft\",\n",
    "           9: \"Wii\",\n",
    "           10: \"Lego\",\n",
    "           11: \"The Sims\"}"
   ]
  },
  {
   "cell_type": "code",
   "execution_count": 2,
   "id": "5431ead1",
   "metadata": {
    "scrolled": true
   },
   "outputs": [
    {
     "name": "stdout",
     "output_type": "stream",
     "text": [
      "Chọn một trong các lựa chọn sau:\n",
      "    1: Hiển thị danh sách sản phẩm\n",
      "    2: Thêm sản phẩm mới\n",
      "    3: Cập nhật sản phẩm\n",
      "    4: Xóa sản phẩm\n",
      "    5: Thoát khỏi ứng dụng\n",
      "\n",
      "Mời bạn nhập lựa chọn của mình: 2\n",
      "\n",
      "Mời bạn nhập id sản phẩm để thêm: 12\n",
      "Mời bạn nhập tên sản phẩm để thêm: Final Fantasy\n",
      "Đã thêm sản phẩm thành công!\n",
      "\n",
      "Chọn một trong các lựa chọn sau:\n",
      "    1: Hiển thị danh sách sản phẩm\n",
      "    2: Thêm sản phẩm mới\n",
      "    3: Cập nhật sản phẩm\n",
      "    4: Xóa sản phẩm\n",
      "    5: Thoát khỏi ứng dụng\n",
      "\n",
      "Mời bạn nhập lựa chọn của mình: 1\n",
      "\n",
      "Đây là danh sách sản phẩm:\n",
      "{1: 'Mario', 2: 'Tetris', 3: 'Pokémon', 4: 'Call of Duty', 5: 'Super Mario', 6: 'Grand Theft Auto', 7: 'FIFA', 8: 'Minecraft', 9: 'Wii', 10: 'Lego', 11: 'The Sims', 12: 'Final Fantasy'}\n",
      "\n",
      "Chọn một trong các lựa chọn sau:\n",
      "    1: Hiển thị danh sách sản phẩm\n",
      "    2: Thêm sản phẩm mới\n",
      "    3: Cập nhật sản phẩm\n",
      "    4: Xóa sản phẩm\n",
      "    5: Thoát khỏi ứng dụng\n",
      "\n",
      "Mời bạn nhập lựa chọn của mình: 5\n",
      "\n"
     ]
    }
   ],
   "source": [
    "def prods_inf(prods_db, prod_id):\n",
    "    if prod_id in prods_db:\n",
    "        return prods_db[prod_id]\n",
    "    \n",
    "def prods_update(prods_db, prod_id, prod_name):\n",
    "    prods_db[prod_id] = prod_name\n",
    "\n",
    "while True:\n",
    "    print(\"\"\"Chọn một trong các lựa chọn sau:\n",
    "    1: Hiển thị danh sách sản phẩm\n",
    "    2: Thêm sản phẩm mới\n",
    "    3: Cập nhật sản phẩm\n",
    "    4: Xóa sản phẩm\n",
    "    5: Thoát khỏi ứng dụng\"\"\", end = \"\\n\")\n",
    "    print()\n",
    "    option = int(input(\"Mời bạn nhập lựa chọn của mình: \"))\n",
    "    print()\n",
    "    \n",
    "    if option == 1:\n",
    "        print(\"Đây là danh sách sản phẩm:\" + f\"\\n{prods_db}\")\n",
    "        print()\n",
    "        \n",
    "    elif option == 2:\n",
    "        product_id = int(input(\"Mời bạn nhập id sản phẩm để thêm: \"))\n",
    "        while prods_inf(prods_db, product_id) != None:\n",
    "            print(\"Đã có sản phẩm tồn tại với id vừa nhập!\")\n",
    "            product_id = int(input(\"Mời bạn nhập lại id sản phẩm để thêm: \"))\n",
    "        product_name = input(\"Mời bạn nhập tên sản phẩm để thêm: \")\n",
    "        prods_update(prods_db, product_id, product_name)\n",
    "        print(\"Đã thêm sản phẩm thành công!\")\n",
    "        print()\n",
    "            \n",
    "    elif option == 3:\n",
    "        product_id = int(input(\"Mời bạn nhập id sản phẩm để cập nhật: \"))\n",
    "        while prods_inf(prods_db, product_id) == None:\n",
    "            print(\"Sản phẩm với id vừa nhập không tồn tại!\")\n",
    "            product_id = int(input(\"Mời bạn nhập lại id sản phẩm để cập nhật: \"))\n",
    "        product_name = input(\"Mời bạn nhập tên sản phẩm để cập nhật: \")\n",
    "        prods_update(prods_db, product_id, product_name)\n",
    "        print(\"Đã cập nhật sản phẩm thành công!\")\n",
    "        print()\n",
    "            \n",
    "    elif option == 4:\n",
    "        product_id = int(input(\"Mời bạn nhập id sản phẩm để xóa: \"))\n",
    "        while prods_inf(prods_db, product_id) == None:\n",
    "            print(\"Sản phẩm với id vừa nhập không tồn tại!\")\n",
    "        product_id = int(input(\"Mời bạn nhập lại id sản phẩm để xóa: \"))\n",
    "        prods_db.remove(product_id)\n",
    "        print(\"Đã xóa sản phẩm thành công!\")\n",
    "        print()\n",
    "            \n",
    "    elif option == 5: break"
   ]
  }
 ],
 "metadata": {
  "kernelspec": {
   "display_name": "Python 3 (ipykernel)",
   "language": "python",
   "name": "python3"
  },
  "language_info": {
   "codemirror_mode": {
    "name": "ipython",
    "version": 3
   },
   "file_extension": ".py",
   "mimetype": "text/x-python",
   "name": "python",
   "nbconvert_exporter": "python",
   "pygments_lexer": "ipython3",
   "version": "3.10.6"
  }
 },
 "nbformat": 4,
 "nbformat_minor": 5
}
