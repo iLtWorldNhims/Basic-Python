{
 "cells": [
  {
   "cell_type": "code",
   "execution_count": 58,
   "id": "e25a3fc3-8c07-4655-bd5a-3b4cbd5bb942",
   "metadata": {},
   "outputs": [
    {
     "name": "stdout",
     "output_type": "stream",
     "text": [
      "{'lorem': 4, 'ipsum': 4, 'là': 2, 'gì': 1, 'chỉ': 1, 'đơn': 1, 'giản': 1, 'một': 4, 'đoạn': 4, 'văn': 6, 'bản': 7, 'giả': 1, 'được': 5, 'dùng': 1, 'vào': 2, 'việc': 2, 'trình': 1, 'bày': 1, 'và': 2, 'dàn': 2, 'trang': 2, 'phục': 1, 'vụ': 1, 'cho': 2, 'in': 3, 'ấn': 2, 'đã': 3, 'sử': 2, 'dụng': 4, 'như': 2, 'chuẩn': 1, 'ngành': 1, 'công': 1, 'nghiệp': 1, 'từ': 1, 'những': 5, 'năm': 3, '1500': 1, 'khi': 2, 'họa': 1, 'sĩ': 1, 'vô': 1, 'danh': 1, 'ghép': 1, 'nhiều': 1, 'với': 1, 'nhau': 1, 'để': 1, 'tạo': 1, 'thành': 1, 'mẫu': 1, 'này': 1, 'không': 2, 'tồn': 1, 'tại': 1, 'thế': 1, 'kỉ': 1, 'mà': 1, 'áp': 1, 'tin': 1, 'học': 1, 'phòng': 1, 'nội': 1, 'dung': 1, 'của': 1, 'nó': 2, 'vẫn': 1, 'hề': 1, 'bị': 1, 'thay': 1, 'đổi': 1, 'phổ': 1, 'biến': 1, 'trong': 2, '1960': 1, 'nhờ': 1, 'bán': 1, 'giấy': 1, 'letraset': 1, 'gần': 1, 'đây': 1, 'hơn': 1, 'các': 1, 'ứng': 1, 'aldus': 1, 'pagemaker': 1}\n"
     ]
    }
   ],
   "source": [
    "def count_words(message):\n",
    "    for character in (\"?\", \"!\", \".\", \",\", \":\", \";\"):\n",
    "        message = message.replace(character, \"\")\n",
    "    num_words = {}\n",
    "    text_list = message.split()\n",
    "    for word in text_list:\n",
    "        word = word.lower().strip()\n",
    "        if num_words.get(word) == None:\n",
    "            num_words[word] = 1\n",
    "        else:\n",
    "            num_words[word] = num_words.get(word) + 1\n",
    "    return num_words\n",
    "        \n",
    "message  = \"\"\"Lorem Ipsum là gì?\n",
    "Lorem Ipsum chỉ đơn giản là một đoạn văn bản giả, được dùng vào việc trình bày và dàn trang phục vụ cho in ấn.\n",
    "Lorem Ipsum đã được sử dụng như một văn bản chuẩn cho ngành công nghiệp in ấn từ những năm 1500, khi một họa sĩ vô danh ghép nhiều đoạn văn bản với nhau để tạo thành một bản mẫu văn bản.\n",
    "Đoạn văn bản này không những đã tồn tại năm thế kỉ, mà khi được áp dụng vào tin học văn phòng, nội dung của nó vẫn không hề bị thay đổi.\n",
    "Nó đã được phổ biến trong những năm 1960 nhờ việc bán những bản giấy Letraset in những đoạn Lorem Ipsum, và gần đây hơn, được sử dụng trong các ứng dụng dàn trang, như Aldus PageMaker.\"\"\"\n",
    "\n",
    "print(count_words(message))"
   ]
  },
  {
   "cell_type": "code",
   "execution_count": 49,
   "id": "9f1d29b6-dc48-48ce-ab74-538afd50608b",
   "metadata": {},
   "outputs": [
    {
     "name": "stdout",
     "output_type": "stream",
     "text": [
      "bitch\n"
     ]
    }
   ],
   "source": [
    "text = \"bitch?\"\n",
    "print(text.replace(\"?\",\"\"))"
   ]
  }
 ],
 "metadata": {
  "kernelspec": {
   "display_name": "Python 3 (ipykernel)",
   "language": "python",
   "name": "python3"
  },
  "language_info": {
   "codemirror_mode": {
    "name": "ipython",
    "version": 3
   },
   "file_extension": ".py",
   "mimetype": "text/x-python",
   "name": "python",
   "nbconvert_exporter": "python",
   "pygments_lexer": "ipython3",
   "version": "3.10.6"
  }
 },
 "nbformat": 4,
 "nbformat_minor": 5
}
